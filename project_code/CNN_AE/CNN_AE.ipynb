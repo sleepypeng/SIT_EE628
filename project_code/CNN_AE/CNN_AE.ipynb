{
 "cells": [
  {
   "cell_type": "code",
   "execution_count": 1,
   "metadata": {},
   "outputs": [],
   "source": [
    "from skimage import io, color, transform\n",
    "import numpy as np\n",
    "import time\n",
    "import os\n",
    "os.environ[\"KMP_DUPLICATE_LIB_OK\"]=\"TRUE\""
   ]
  },
  {
   "cell_type": "code",
   "execution_count": 2,
   "metadata": {},
   "outputs": [
    {
     "name": "stderr",
     "output_type": "stream",
     "text": [
      "/anaconda3/lib/python3.6/site-packages/skimage/transform/_warps.py:105: UserWarning: The default mode, 'constant', will be changed to 'reflect' in skimage 0.15.\n",
      "  warn(\"The default mode, 'constant', will be changed to 'reflect' in \"\n",
      "/anaconda3/lib/python3.6/site-packages/skimage/transform/_warps.py:110: UserWarning: Anti-aliasing will be enabled by default in skimage 0.15 to avoid aliasing artifacts when down-sampling images.\n",
      "  warn(\"Anti-aliasing will be enabled by default in skimage 0.15 to \"\n"
     ]
    },
    {
     "name": "stdout",
     "output_type": "stream",
     "text": [
      "185.97323393821716\n",
      "(25000, 28, 28)\n",
      "(12500, 28, 28)\n"
     ]
    }
   ],
   "source": [
    "# Read data set\n",
    "data_dir = '/Users/kunpenghao/Desktop/Study_in_SIT/EE_628/project'\n",
    "test_str = data_dir + '/data/test1/*.jpg'\n",
    "train_str = data_dir + '/data/train/*.jpg'\n",
    "\n",
    "def convert_gray(f): \n",
    "    rgb = io.imread(f)\n",
    "    rgb = transform.resize(rgb, (28, 28))\n",
    "    return color.rgb2gray(rgb)\n",
    "\n",
    "test_im = io.ImageCollection(test_str, load_func = convert_gray)\n",
    "train_im = io.ImageCollection(train_str, load_func = convert_gray)\n",
    "\n",
    "train = [0 for i in range(25000)]\n",
    "test = [0 for i in range(12500)]\n",
    "\n",
    "time_start = time.time()\n",
    "for i in range(len(train_im)):\n",
    "    pic = train_im[i]\n",
    "    train[i] = pic\n",
    "for i in range(len(test_im)):\n",
    "    pic = test_im[i]\n",
    "    test[i] = pic\n",
    "time_end = time.time()\n",
    "print(time_end - time_start)\n",
    "\n",
    "train = np.array(train)\n",
    "test = np.array(test)\n",
    "\n",
    "print(train.shape)\n",
    "print(test.shape)"
   ]
  },
  {
   "cell_type": "code",
   "execution_count": 3,
   "metadata": {},
   "outputs": [],
   "source": [
    "# Make class for train_set\n",
    "# x_train(20000), 0-9999 cat; 10000-19999 dog\n",
    "# x_val(5000), 0-2499 cat; 2500-4999 dog\n",
    "# y_train(20000) y_val(5000), cat = 1, dog = 0\n",
    "cat_train = train[:10000]\n",
    "cat_val = train[10000:12500]\n",
    "dog_train = train[12500:22500]\n",
    "dog_val = train[22500:]\n",
    "x_train = np.zeros([20000, 28,28])\n",
    "x_val = np.zeros([5000, 28,28])\n",
    "x_train[:10000] = cat_train\n",
    "x_train[10000:] = dog_train\n",
    "x_val[:2500] = cat_val\n",
    "x_val[2500:] = dog_val\n",
    "y_train = np.zeros([20000, 1])\n",
    "y_val = np.zeros([5000, 1])\n",
    "y_train[10000:] = 1\n",
    "y_val[2500:] = 1"
   ]
  },
  {
   "cell_type": "code",
   "execution_count": 4,
   "metadata": {},
   "outputs": [],
   "source": [
    "x_train = x_train.reshape(x_train.shape[0], 28, 28, 1)\n",
    "x_val = x_val.reshape(x_val.shape[0], 28, 28, 1)\n",
    "x_test = test.reshape(test.shape[0], 28, 28, 1)"
   ]
  },
  {
   "cell_type": "code",
   "execution_count": 5,
   "metadata": {},
   "outputs": [
    {
     "name": "stderr",
     "output_type": "stream",
     "text": [
      "Using TensorFlow backend.\n"
     ]
    },
    {
     "name": "stdout",
     "output_type": "stream",
     "text": [
      "_________________________________________________________________\n",
      "Layer (type)                 Output Shape              Param #   \n",
      "=================================================================\n",
      "conv2d_1 (Conv2D)            (None, 28, 28, 16)        160       \n",
      "_________________________________________________________________\n",
      "max_pooling2d_1 (MaxPooling2 (None, 14, 14, 16)        0         \n",
      "_________________________________________________________________\n",
      "conv2d_2 (Conv2D)            (None, 14, 14, 8)         1160      \n",
      "_________________________________________________________________\n",
      "max_pooling2d_2 (MaxPooling2 (None, 7, 7, 8)           0         \n",
      "_________________________________________________________________\n",
      "conv2d_3 (Conv2D)            (None, 4, 4, 8)           584       \n",
      "_________________________________________________________________\n",
      "flatten_1 (Flatten)          (None, 128)               0         \n",
      "_________________________________________________________________\n",
      "dense_1 (Dense)              (None, 2)                 258       \n",
      "_________________________________________________________________\n",
      "dense_2 (Dense)              (None, 128)               384       \n",
      "_________________________________________________________________\n",
      "reshape_1 (Reshape)          (None, 4, 4, 8)           0         \n",
      "_________________________________________________________________\n",
      "conv2d_4 (Conv2D)            (None, 4, 4, 8)           584       \n",
      "_________________________________________________________________\n",
      "up_sampling2d_1 (UpSampling2 (None, 8, 8, 8)           0         \n",
      "_________________________________________________________________\n",
      "conv2d_5 (Conv2D)            (None, 8, 8, 8)           584       \n",
      "_________________________________________________________________\n",
      "up_sampling2d_2 (UpSampling2 (None, 16, 16, 8)         0         \n",
      "_________________________________________________________________\n",
      "conv2d_6 (Conv2D)            (None, 14, 14, 16)        1168      \n",
      "_________________________________________________________________\n",
      "up_sampling2d_3 (UpSampling2 (None, 28, 28, 16)        0         \n",
      "_________________________________________________________________\n",
      "conv2d_7 (Conv2D)            (None, 28, 28, 1)         145       \n",
      "=================================================================\n",
      "Total params: 5,027\n",
      "Trainable params: 5,027\n",
      "Non-trainable params: 0\n",
      "_________________________________________________________________\n"
     ]
    }
   ],
   "source": [
    "from keras.layers import Input, Dense, Conv2D, MaxPooling2D, UpSampling2D, Flatten, Reshape\n",
    "from keras.models import Model, Sequential\n",
    "from keras import regularizers\n",
    "\n",
    "autoencoder = Sequential()\n",
    "\n",
    "# Encoder Layers\n",
    "autoencoder.add(Conv2D(16, (3, 3), activation='relu', padding='same', input_shape=x_train.shape[1:]))\n",
    "autoencoder.add(MaxPooling2D((2, 2), padding='same'))\n",
    "autoencoder.add(Conv2D(8, (3, 3), activation='relu', padding='same'))\n",
    "autoencoder.add(MaxPooling2D((2, 2), padding='same'))\n",
    "autoencoder.add(Conv2D(8, (3, 3), strides=(2,2), activation='relu', padding='same'))\n",
    "\n",
    "autoencoder.add(Flatten())\n",
    "autoencoder.add(Dense(2, activation='sigmoid'))\n",
    "autoencoder.add(Dense(128, activation='relu'))\n",
    "autoencoder.add(Reshape((4, 4, 8)))\n",
    "\n",
    "# Decoder Layers\n",
    "autoencoder.add(Conv2D(8, (3, 3), activation='relu', padding='same'))\n",
    "autoencoder.add(UpSampling2D((2, 2)))\n",
    "autoencoder.add(Conv2D(8, (3, 3), activation='relu', padding='same'))\n",
    "autoencoder.add(UpSampling2D((2, 2)))\n",
    "autoencoder.add(Conv2D(16, (3, 3), activation='relu'))\n",
    "autoencoder.add(UpSampling2D((2, 2)))\n",
    "autoencoder.add(Conv2D(1, (3, 3), activation='sigmoid', padding='same'))\n",
    "\n",
    "autoencoder.summary()"
   ]
  },
  {
   "cell_type": "code",
   "execution_count": 6,
   "metadata": {},
   "outputs": [
    {
     "name": "stdout",
     "output_type": "stream",
     "text": [
      "_________________________________________________________________\n",
      "Layer (type)                 Output Shape              Param #   \n",
      "=================================================================\n",
      "conv2d_1 (Conv2D)            (None, 28, 28, 16)        160       \n",
      "_________________________________________________________________\n",
      "max_pooling2d_1 (MaxPooling2 (None, 14, 14, 16)        0         \n",
      "_________________________________________________________________\n",
      "conv2d_2 (Conv2D)            (None, 14, 14, 8)         1160      \n",
      "_________________________________________________________________\n",
      "max_pooling2d_2 (MaxPooling2 (None, 7, 7, 8)           0         \n",
      "_________________________________________________________________\n",
      "conv2d_3 (Conv2D)            (None, 4, 4, 8)           584       \n",
      "_________________________________________________________________\n",
      "flatten_1 (Flatten)          (None, 128)               0         \n",
      "_________________________________________________________________\n",
      "dense_1 (Dense)              (None, 2)                 258       \n",
      "=================================================================\n",
      "Total params: 2,162\n",
      "Trainable params: 2,162\n",
      "Non-trainable params: 0\n",
      "_________________________________________________________________\n"
     ]
    }
   ],
   "source": [
    "encoder = Sequential()\n",
    "encoder.add(autoencoder.layers[0])\n",
    "encoder.add(autoencoder.layers[1])\n",
    "encoder.add(autoencoder.layers[2])\n",
    "encoder.add(autoencoder.layers[3])\n",
    "encoder.add(autoencoder.layers[4])\n",
    "encoder.add(autoencoder.layers[5])\n",
    "encoder.add(autoencoder.layers[6])\n",
    "encoder.summary()"
   ]
  },
  {
   "cell_type": "code",
   "execution_count": 7,
   "metadata": {},
   "outputs": [
    {
     "name": "stdout",
     "output_type": "stream",
     "text": [
      "Train on 20000 samples, validate on 5000 samples\n",
      "Epoch 1/20\n",
      "20000/20000 [==============================] - 37s 2ms/step - loss: 0.0635 - val_loss: 0.0633\n",
      "Epoch 2/20\n",
      "20000/20000 [==============================] - 35s 2ms/step - loss: 0.0577 - val_loss: 0.0550\n",
      "Epoch 3/20\n",
      "20000/20000 [==============================] - 34s 2ms/step - loss: 0.0527 - val_loss: 0.0523\n",
      "Epoch 4/20\n",
      "20000/20000 [==============================] - 34s 2ms/step - loss: 0.0509 - val_loss: 0.0510\n",
      "Epoch 5/20\n",
      "20000/20000 [==============================] - 34s 2ms/step - loss: 0.0496 - val_loss: 0.0489\n",
      "Epoch 6/20\n",
      "20000/20000 [==============================] - 35s 2ms/step - loss: 0.0465 - val_loss: 0.0457\n",
      "Epoch 7/20\n",
      "20000/20000 [==============================] - 34s 2ms/step - loss: 0.0451 - val_loss: 0.0451\n",
      "Epoch 8/20\n",
      "20000/20000 [==============================] - 34s 2ms/step - loss: 0.0447 - val_loss: 0.0447\n",
      "Epoch 9/20\n",
      "20000/20000 [==============================] - 34s 2ms/step - loss: 0.0444 - val_loss: 0.0446\n",
      "Epoch 10/20\n",
      "20000/20000 [==============================] - 34s 2ms/step - loss: 0.0442 - val_loss: 0.0443\n",
      "Epoch 11/20\n",
      "20000/20000 [==============================] - 34s 2ms/step - loss: 0.0441 - val_loss: 0.0442\n",
      "Epoch 12/20\n",
      "20000/20000 [==============================] - 34s 2ms/step - loss: 0.0440 - val_loss: 0.0443\n",
      "Epoch 13/20\n",
      "20000/20000 [==============================] - 34s 2ms/step - loss: 0.0440 - val_loss: 0.0440\n",
      "Epoch 14/20\n",
      "20000/20000 [==============================] - 34s 2ms/step - loss: 0.0438 - val_loss: 0.0440\n",
      "Epoch 15/20\n",
      "20000/20000 [==============================] - 34s 2ms/step - loss: 0.0438 - val_loss: 0.0439\n",
      "Epoch 16/20\n",
      "20000/20000 [==============================] - 34s 2ms/step - loss: 0.0438 - val_loss: 0.0439\n",
      "Epoch 17/20\n",
      "20000/20000 [==============================] - 34s 2ms/step - loss: 0.0437 - val_loss: 0.0438\n",
      "Epoch 18/20\n",
      "20000/20000 [==============================] - 34s 2ms/step - loss: 0.0437 - val_loss: 0.0439\n",
      "Epoch 19/20\n",
      "20000/20000 [==============================] - 34s 2ms/step - loss: 0.0437 - val_loss: 0.0438\n",
      "Epoch 20/20\n",
      "20000/20000 [==============================] - 37s 2ms/step - loss: 0.0437 - val_loss: 0.0439\n"
     ]
    },
    {
     "data": {
      "text/plain": [
       "<keras.callbacks.History at 0x1c5843b6a0>"
      ]
     },
     "execution_count": 7,
     "metadata": {},
     "output_type": "execute_result"
    }
   ],
   "source": [
    "from keras.optimizers import Adam\n",
    "autoencoder.compile(loss='mse', optimizer=Adam())\n",
    "autoencoder.fit(x_train, x_train,\n",
    "                epochs=20,\n",
    "                batch_size=512,\n",
    "                shuffle=True,\n",
    "                validation_data=(x_val, x_val))"
   ]
  },
  {
   "cell_type": "code",
   "execution_count": null,
   "metadata": {},
   "outputs": [],
   "source": []
  },
  {
   "cell_type": "code",
   "execution_count": 9,
   "metadata": {},
   "outputs": [],
   "source": [
    "import pandas as pd\n",
    "predictions = encoder.predict_classes(x_test)\n",
    "predictions = list(predictions)\n",
    "pic = []\n",
    "for i in range(12500):\n",
    "    pic.append(i+1)\n",
    "\n",
    "sub = pd.DataFrame({'id': pic,'label': predictions})\n",
    "sub.to_csv('./CNN_AE_output.csv', index=False)"
   ]
  },
  {
   "cell_type": "code",
   "execution_count": null,
   "metadata": {},
   "outputs": [],
   "source": []
  }
 ],
 "metadata": {
  "kernelspec": {
   "display_name": "Python 3",
   "language": "python",
   "name": "python3"
  },
  "language_info": {
   "codemirror_mode": {
    "name": "ipython",
    "version": 3
   },
   "file_extension": ".py",
   "mimetype": "text/x-python",
   "name": "python",
   "nbconvert_exporter": "python",
   "pygments_lexer": "ipython3",
   "version": "3.6.8"
  }
 },
 "nbformat": 4,
 "nbformat_minor": 2
}
