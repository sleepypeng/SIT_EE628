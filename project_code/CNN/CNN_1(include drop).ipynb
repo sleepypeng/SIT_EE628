{
 "cells": [
  {
   "cell_type": "code",
   "execution_count": 1,
   "metadata": {},
   "outputs": [],
   "source": [
    "from skimage import io, color, transform\n",
    "import numpy as np\n",
    "import time\n",
    "import os\n",
    "os.environ[\"KMP_DUPLICATE_LIB_OK\"]=\"TRUE\""
   ]
  },
  {
   "cell_type": "code",
   "execution_count": 2,
   "metadata": {},
   "outputs": [
    {
     "name": "stderr",
     "output_type": "stream",
     "text": [
      "/anaconda3/lib/python3.6/site-packages/skimage/transform/_warps.py:105: UserWarning: The default mode, 'constant', will be changed to 'reflect' in skimage 0.15.\n",
      "  warn(\"The default mode, 'constant', will be changed to 'reflect' in \"\n",
      "/anaconda3/lib/python3.6/site-packages/skimage/transform/_warps.py:110: UserWarning: Anti-aliasing will be enabled by default in skimage 0.15 to avoid aliasing artifacts when down-sampling images.\n",
      "  warn(\"Anti-aliasing will be enabled by default in skimage 0.15 to \"\n"
     ]
    },
    {
     "name": "stdout",
     "output_type": "stream",
     "text": [
      "217.99827694892883\n",
      "(25000, 28, 28)\n",
      "(12500, 28, 28)\n"
     ]
    }
   ],
   "source": [
    "# Read data set\n",
    "data_dir = '/Users/kunpenghao/Desktop/Study_in_SIT/EE_628/project'\n",
    "test_str = data_dir + '/data/test1/*.jpg'\n",
    "train_str = data_dir + '/data/train/*.jpg'\n",
    "\n",
    "def convert_gray(f): \n",
    "    rgb = io.imread(f)\n",
    "    rgb = transform.resize(rgb, (28, 28))\n",
    "    return color.rgb2gray(rgb)\n",
    "\n",
    "test_im = io.ImageCollection(test_str, load_func = convert_gray)\n",
    "train_im = io.ImageCollection(train_str, load_func = convert_gray)\n",
    "\n",
    "train = [0 for i in range(25000)]\n",
    "test = [0 for i in range(12500)]\n",
    "\n",
    "time_start = time.time()\n",
    "for i in range(len(train_im)):\n",
    "    pic = train_im[i]\n",
    "    train[i] = pic\n",
    "for i in range(len(test_im)):\n",
    "    pic = test_im[i]\n",
    "    test[i] = pic\n",
    "time_end = time.time()\n",
    "print(time_end - time_start)\n",
    "\n",
    "train = np.array(train)\n",
    "test = np.array(test)\n",
    "\n",
    "print(train.shape)\n",
    "print(test.shape)"
   ]
  },
  {
   "cell_type": "code",
   "execution_count": 3,
   "metadata": {},
   "outputs": [],
   "source": [
    "# Make class for train_set\n",
    "# x_train(20000), 0-9999 cat; 10000-19999 dog\n",
    "# x_val(5000), 0-2499 cat; 2500-4999 dog\n",
    "# y_train(20000) y_val(5000), cat = 1, dog = 0\n",
    "cat_train = train[:10000]\n",
    "cat_val = train[10000:12500]\n",
    "dog_train = train[12500:22500]\n",
    "dog_val = train[22500:, :, :]\n",
    "x_train = np.zeros([20000, 28, 28])\n",
    "x_val = np.zeros([5000, 28, 28])\n",
    "x_train[:10000] = cat_train\n",
    "x_train[10000:] = dog_train\n",
    "x_val[:2500] = cat_val\n",
    "x_val[2500:] = dog_val\n",
    "y_train = np.zeros([20000, 1])\n",
    "y_val = np.zeros([5000, 1])\n",
    "y_train[10000:] = 1\n",
    "y_val[2500:] = 1\n",
    "y_train = y_train.tolist()\n",
    "y_val = y_val.tolist()\n",
    "\n",
    "x_train = x_train.reshape(x_train.shape[0], 28, 28, 1)\n",
    "x_val = x_val.reshape(x_val.shape[0], 28, 28, 1)"
   ]
  },
  {
   "cell_type": "code",
   "execution_count": 4,
   "metadata": {},
   "outputs": [],
   "source": [
    "x_test = test.reshape(test.shape[0], 28, 28, 1)"
   ]
  },
  {
   "cell_type": "code",
   "execution_count": null,
   "metadata": {},
   "outputs": [],
   "source": []
  },
  {
   "cell_type": "code",
   "execution_count": 5,
   "metadata": {},
   "outputs": [
    {
     "name": "stderr",
     "output_type": "stream",
     "text": [
      "Using TensorFlow backend.\n"
     ]
    }
   ],
   "source": [
    "import pandas as pd\n",
    "import matplotlib.pyplot as plt\n",
    "%matplotlib inline\n",
    "\n",
    "import tensorflow as tf\n",
    "from keras.layers import Input, Dense\n",
    "from keras.models import Model\n",
    "\n",
    "from keras.models import Sequential\n",
    "from keras.layers import Dense, Dropout, Activation, Flatten\n",
    "from keras.optimizers import Adam\n",
    "from keras.layers.normalization import BatchNormalization\n",
    "from keras.utils import np_utils\n",
    "from keras.layers import Conv2D, MaxPooling2D, ZeroPadding2D, GlobalAveragePooling2D\n",
    "from keras.layers.advanced_activations import LeakyReLU \n",
    "from keras.preprocessing.image import ImageDataGenerator"
   ]
  },
  {
   "cell_type": "code",
   "execution_count": 6,
   "metadata": {},
   "outputs": [
    {
     "data": {
      "text/plain": [
       "([0.0], array([1., 0.], dtype=float32))"
      ]
     },
     "execution_count": 6,
     "metadata": {},
     "output_type": "execute_result"
    }
   ],
   "source": [
    "\n",
    "number_of_classes = 2\n",
    "\n",
    "Y_train = np_utils.to_categorical(y_train, number_of_classes)\n",
    "Y_val = np_utils.to_categorical(y_val, number_of_classes)\n",
    "\n",
    "y_train[0], Y_train[0]"
   ]
  },
  {
   "cell_type": "code",
   "execution_count": 7,
   "metadata": {},
   "outputs": [],
   "source": [
    "#CNN nets\n",
    "model = Sequential()\n",
    "\n",
    "model.add(Conv2D(32, (3, 3), input_shape=(28,28,1)))\n",
    "model.add(Activation('relu'))\n",
    "BatchNormalization(axis=-1)\n",
    "model.add(Conv2D(32, (3, 3)))\n",
    "model.add(Activation('relu'))\n",
    "model.add(MaxPooling2D(pool_size=(2,2)))\n",
    "\n",
    "BatchNormalization(axis=-1)\n",
    "model.add(Conv2D(64,(3, 3)))\n",
    "model.add(Activation('relu'))\n",
    "BatchNormalization(axis=-1)\n",
    "model.add(Conv2D(64, (3, 3)))\n",
    "model.add(Activation('relu'))\n",
    "model.add(MaxPooling2D(pool_size=(2,2)))\n",
    "\n",
    "model.add(Flatten())\n",
    "\n",
    "BatchNormalization()\n",
    "model.add(Dense(512))\n",
    "model.add(Activation('relu'))\n",
    "BatchNormalization()\n",
    "model.add(Dropout(0.2))\n",
    "model.add(Dense(2))\n",
    "\n",
    "model.add(Activation('softmax'))"
   ]
  },
  {
   "cell_type": "code",
   "execution_count": 8,
   "metadata": {},
   "outputs": [
    {
     "name": "stdout",
     "output_type": "stream",
     "text": [
      "_________________________________________________________________\n",
      "Layer (type)                 Output Shape              Param #   \n",
      "=================================================================\n",
      "conv2d_1 (Conv2D)            (None, 26, 26, 32)        320       \n",
      "_________________________________________________________________\n",
      "activation_1 (Activation)    (None, 26, 26, 32)        0         \n",
      "_________________________________________________________________\n",
      "conv2d_2 (Conv2D)            (None, 24, 24, 32)        9248      \n",
      "_________________________________________________________________\n",
      "activation_2 (Activation)    (None, 24, 24, 32)        0         \n",
      "_________________________________________________________________\n",
      "max_pooling2d_1 (MaxPooling2 (None, 12, 12, 32)        0         \n",
      "_________________________________________________________________\n",
      "conv2d_3 (Conv2D)            (None, 10, 10, 64)        18496     \n",
      "_________________________________________________________________\n",
      "activation_3 (Activation)    (None, 10, 10, 64)        0         \n",
      "_________________________________________________________________\n",
      "conv2d_4 (Conv2D)            (None, 8, 8, 64)          36928     \n",
      "_________________________________________________________________\n",
      "activation_4 (Activation)    (None, 8, 8, 64)          0         \n",
      "_________________________________________________________________\n",
      "max_pooling2d_2 (MaxPooling2 (None, 4, 4, 64)          0         \n",
      "_________________________________________________________________\n",
      "flatten_1 (Flatten)          (None, 1024)              0         \n",
      "_________________________________________________________________\n",
      "dense_1 (Dense)              (None, 512)               524800    \n",
      "_________________________________________________________________\n",
      "activation_5 (Activation)    (None, 512)               0         \n",
      "_________________________________________________________________\n",
      "dropout_1 (Dropout)          (None, 512)               0         \n",
      "_________________________________________________________________\n",
      "dense_2 (Dense)              (None, 2)                 1026      \n",
      "_________________________________________________________________\n",
      "activation_6 (Activation)    (None, 2)                 0         \n",
      "=================================================================\n",
      "Total params: 590,818\n",
      "Trainable params: 590,818\n",
      "Non-trainable params: 0\n",
      "_________________________________________________________________\n"
     ]
    }
   ],
   "source": [
    "model.summary()"
   ]
  },
  {
   "cell_type": "code",
   "execution_count": 9,
   "metadata": {},
   "outputs": [],
   "source": [
    "model.compile(loss='categorical_crossentropy', optimizer=Adam(), metrics=['accuracy'])"
   ]
  },
  {
   "cell_type": "code",
   "execution_count": 10,
   "metadata": {},
   "outputs": [
    {
     "name": "stdout",
     "output_type": "stream",
     "text": [
      "Train on 20000 samples, validate on 5000 samples\n",
      "Epoch 1/25\n",
      "20000/20000 [==============================] - 19s 943us/step - loss: 0.6821 - acc: 0.5465 - val_loss: 0.6471 - val_acc: 0.6270\n",
      "Epoch 2/25\n",
      "20000/20000 [==============================] - 17s 846us/step - loss: 0.6315 - acc: 0.6398 - val_loss: 0.6464 - val_acc: 0.6216\n",
      "Epoch 3/25\n",
      "20000/20000 [==============================] - 17s 863us/step - loss: 0.6116 - acc: 0.6660 - val_loss: 0.6157 - val_acc: 0.6608\n",
      "Epoch 4/25\n",
      "20000/20000 [==============================] - 17s 842us/step - loss: 0.5781 - acc: 0.6959 - val_loss: 0.5642 - val_acc: 0.7020\n",
      "Epoch 5/25\n",
      "20000/20000 [==============================] - 17s 851us/step - loss: 0.5544 - acc: 0.7153 - val_loss: 0.5659 - val_acc: 0.7010\n",
      "Epoch 6/25\n",
      "20000/20000 [==============================] - 17s 842us/step - loss: 0.5340 - acc: 0.7329 - val_loss: 0.5254 - val_acc: 0.7390\n",
      "Epoch 7/25\n",
      "20000/20000 [==============================] - 17s 837us/step - loss: 0.5106 - acc: 0.7502 - val_loss: 0.5175 - val_acc: 0.7410\n",
      "Epoch 8/25\n",
      "20000/20000 [==============================] - 17s 852us/step - loss: 0.4920 - acc: 0.7623 - val_loss: 0.5234 - val_acc: 0.7396\n",
      "Epoch 9/25\n",
      "20000/20000 [==============================] - 17s 847us/step - loss: 0.4698 - acc: 0.7792 - val_loss: 0.4900 - val_acc: 0.7606\n",
      "Epoch 10/25\n",
      "20000/20000 [==============================] - 17s 843us/step - loss: 0.4620 - acc: 0.7833 - val_loss: 0.5250 - val_acc: 0.7460\n",
      "Epoch 11/25\n",
      "20000/20000 [==============================] - 17s 872us/step - loss: 0.4347 - acc: 0.8002 - val_loss: 0.5260 - val_acc: 0.7352\n",
      "Epoch 12/25\n",
      "20000/20000 [==============================] - 18s 887us/step - loss: 0.4278 - acc: 0.8003 - val_loss: 0.5155 - val_acc: 0.7568\n",
      "Epoch 13/25\n",
      "20000/20000 [==============================] - 17s 855us/step - loss: 0.4244 - acc: 0.8028 - val_loss: 0.4941 - val_acc: 0.7638\n",
      "Epoch 14/25\n",
      "20000/20000 [==============================] - 17s 841us/step - loss: 0.3973 - acc: 0.8193 - val_loss: 0.4582 - val_acc: 0.7780\n",
      "Epoch 15/25\n",
      "20000/20000 [==============================] - 17s 836us/step - loss: 0.3785 - acc: 0.8284 - val_loss: 0.5306 - val_acc: 0.7398\n",
      "Epoch 16/25\n",
      "20000/20000 [==============================] - 17s 871us/step - loss: 0.3745 - acc: 0.8314 - val_loss: 0.5056 - val_acc: 0.7656\n",
      "Epoch 17/25\n",
      "20000/20000 [==============================] - 17s 856us/step - loss: 0.3489 - acc: 0.8466 - val_loss: 0.4572 - val_acc: 0.7798\n",
      "Epoch 18/25\n",
      "20000/20000 [==============================] - 17s 850us/step - loss: 0.3244 - acc: 0.8582 - val_loss: 0.4889 - val_acc: 0.7702\n",
      "Epoch 19/25\n",
      "20000/20000 [==============================] - 17s 827us/step - loss: 0.3139 - acc: 0.8634 - val_loss: 0.4731 - val_acc: 0.7836\n",
      "Epoch 20/25\n",
      "20000/20000 [==============================] - 16s 824us/step - loss: 0.3000 - acc: 0.8718 - val_loss: 0.4951 - val_acc: 0.7782\n",
      "Epoch 21/25\n",
      "20000/20000 [==============================] - 17s 829us/step - loss: 0.2831 - acc: 0.8789 - val_loss: 0.5042 - val_acc: 0.7832\n",
      "Epoch 22/25\n",
      "20000/20000 [==============================] - 16s 825us/step - loss: 0.2556 - acc: 0.8929 - val_loss: 0.5000 - val_acc: 0.7826\n",
      "Epoch 23/25\n",
      "20000/20000 [==============================] - 16s 823us/step - loss: 0.2533 - acc: 0.8948 - val_loss: 0.5553 - val_acc: 0.7718\n",
      "Epoch 24/25\n",
      "20000/20000 [==============================] - 17s 826us/step - loss: 0.2473 - acc: 0.8968 - val_loss: 0.4991 - val_acc: 0.7910\n",
      "Epoch 25/25\n",
      "20000/20000 [==============================] - 17s 830us/step - loss: 0.2120 - acc: 0.9134 - val_loss: 0.5377 - val_acc: 0.7786\n"
     ]
    },
    {
     "data": {
      "text/plain": [
       "<keras.callbacks.History at 0x1c58e5e5f8>"
      ]
     },
     "execution_count": 10,
     "metadata": {},
     "output_type": "execute_result"
    }
   ],
   "source": [
    "model.fit(x_train, Y_train,\n",
    "                epochs=25,\n",
    "                batch_size=512,\n",
    "                shuffle=True,\n",
    "                validation_data=(x_val, Y_val))"
   ]
  },
  {
   "cell_type": "code",
   "execution_count": 11,
   "metadata": {},
   "outputs": [
    {
     "name": "stdout",
     "output_type": "stream",
     "text": [
      "5000/5000 [==============================] - 2s 362us/step\n",
      "Test accuracy:  0.7786\n"
     ]
    }
   ],
   "source": [
    "score = model.evaluate(x_val, Y_val)\n",
    "print('Test accuracy: ', score[1])"
   ]
  },
  {
   "cell_type": "code",
   "execution_count": 12,
   "metadata": {},
   "outputs": [],
   "source": [
    "predictions = model.predict_classes(x_test)\n",
    "\n",
    "predictions = list(predictions)\n",
    "pic = []\n",
    "for i in range(12500):\n",
    "    pic.append(i+1)\n",
    "\n",
    "sub = pd.DataFrame({'id': pic,'label': predictions})\n",
    "sub.to_csv('./output_CNN_1.csv', index=False)"
   ]
  },
  {
   "cell_type": "code",
   "execution_count": null,
   "metadata": {},
   "outputs": [],
   "source": []
  }
 ],
 "metadata": {
  "kernelspec": {
   "display_name": "Python 3",
   "language": "python",
   "name": "python3"
  },
  "language_info": {
   "codemirror_mode": {
    "name": "ipython",
    "version": 3
   },
   "file_extension": ".py",
   "mimetype": "text/x-python",
   "name": "python",
   "nbconvert_exporter": "python",
   "pygments_lexer": "ipython3",
   "version": "3.6.8"
  }
 },
 "nbformat": 4,
 "nbformat_minor": 2
}
