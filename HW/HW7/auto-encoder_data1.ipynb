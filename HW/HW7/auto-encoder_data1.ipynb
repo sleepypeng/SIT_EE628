{
 "cells": [
  {
   "cell_type": "code",
   "execution_count": 1,
   "metadata": {},
   "outputs": [],
   "source": [
    "import pandas as pd\n",
    "data = pd.read_csv(open('data1.csv'))"
   ]
  },
  {
   "cell_type": "code",
   "execution_count": 2,
   "metadata": {},
   "outputs": [],
   "source": [
    "import os\n",
    "os.environ[\"KMP_DUPLICATE_LIB_OK\"] = \"TRUE\"\n",
    "%matplotlib inline"
   ]
  },
  {
   "cell_type": "code",
   "execution_count": 3,
   "metadata": {},
   "outputs": [],
   "source": [
    "data1 = data.iloc[:, :28]\n",
    "X_train = data1[:int(len(data1) * 0.7)]\n",
    "X_test = data1[int(len(data1) * 0.7):-3]\n",
    "x_train = X_train.values\n",
    "x_test = X_test.values"
   ]
  },
  {
   "cell_type": "code",
   "execution_count": 4,
   "metadata": {},
   "outputs": [
    {
     "name": "stdout",
     "output_type": "stream",
     "text": [
      "(199367, 28)\n",
      "(85440, 28)\n"
     ]
    }
   ],
   "source": [
    "print(x_train.shape)\n",
    "print(x_test.shape)"
   ]
  },
  {
   "cell_type": "code",
   "execution_count": 5,
   "metadata": {},
   "outputs": [
    {
     "name": "stderr",
     "output_type": "stream",
     "text": [
      "Using TensorFlow backend.\n"
     ]
    }
   ],
   "source": [
    "from keras.layers import Input, Dense\n",
    "from keras.models import Model, Sequential\n",
    "\n",
    "encoding_dim = 2\n",
    "input_img = Input(shape=(28,))\n",
    "encoded = Dense(encoding_dim, activation='relu')(input_img)\n",
    "decoded = Dense(28, activation='sigmoid')(encoded)\n"
   ]
  },
  {
   "cell_type": "code",
   "execution_count": 6,
   "metadata": {},
   "outputs": [],
   "source": [
    "\n",
    "autoencoder1 = Model(input_img, decoded)\n",
    "encoder1 = Model(input_img, encoded)"
   ]
  },
  {
   "cell_type": "code",
   "execution_count": 7,
   "metadata": {},
   "outputs": [],
   "source": [
    "encoded_input = Input(shape=(encoding_dim,))\n",
    "decoder1_layer = autoencoder1.layers[-1]\n",
    "decoder1 = Model(encoded_input, decoder1_layer(encoded_input))"
   ]
  },
  {
   "cell_type": "code",
   "execution_count": 8,
   "metadata": {},
   "outputs": [
    {
     "name": "stdout",
     "output_type": "stream",
     "text": [
      "Train on 199367 samples, validate on 85440 samples\n",
      "Epoch 1/10\n",
      "199367/199367 [==============================] - 3s 14us/step - loss: 1.2962 - val_loss: 1.2454\n",
      "Epoch 2/10\n",
      "199367/199367 [==============================] - 2s 11us/step - loss: 0.5533 - val_loss: 0.9288\n",
      "Epoch 3/10\n",
      "199367/199367 [==============================] - 2s 12us/step - loss: 0.4372 - val_loss: 0.7932\n",
      "Epoch 4/10\n",
      "199367/199367 [==============================] - 2s 11us/step - loss: 0.3833 - val_loss: 0.7062\n",
      "Epoch 5/10\n",
      "199367/199367 [==============================] - 2s 11us/step - loss: 0.3423 - val_loss: 0.5780\n",
      "Epoch 6/10\n",
      "199367/199367 [==============================] - 2s 11us/step - loss: 0.2790 - val_loss: 0.4728\n",
      "Epoch 7/10\n",
      "199367/199367 [==============================] - 2s 10us/step - loss: 0.2465 - val_loss: 0.4484\n",
      "Epoch 8/10\n",
      "199367/199367 [==============================] - 2s 12us/step - loss: 0.2360 - val_loss: 0.4402\n",
      "Epoch 9/10\n",
      "199367/199367 [==============================] - 2s 11us/step - loss: 0.2309 - val_loss: 0.4366\n",
      "Epoch 10/10\n",
      "199367/199367 [==============================] - 2s 11us/step - loss: 0.2274 - val_loss: 0.4339\n"
     ]
    },
    {
     "data": {
      "text/plain": [
       "<keras.callbacks.History at 0x127113c18>"
      ]
     },
     "execution_count": 8,
     "metadata": {},
     "output_type": "execute_result"
    }
   ],
   "source": [
    "autoencoder1.compile(optimizer='adadelta', loss='categorical_hinge')\n",
    "autoencoder1.fit(x_train, x_train,\n",
    "                epochs=10,\n",
    "                batch_size=256,\n",
    "                shuffle=True,\n",
    "                validation_data=(x_test, x_test))"
   ]
  },
  {
   "cell_type": "code",
   "execution_count": 9,
   "metadata": {},
   "outputs": [],
   "source": [
    "encoded_dt1 = encoder1.predict(x_test)\n",
    "decoded_dt1 = decoder1.predict(encoded_dt1)"
   ]
  },
  {
   "cell_type": "code",
   "execution_count": 10,
   "metadata": {},
   "outputs": [],
   "source": [
    "from keras import losses\n",
    "import tensorflow as tf\n",
    "import numpy as np\n",
    "\n",
    "sess=tf.Session()\n",
    "sess.run(tf.global_variables_initializer())\n",
    "\n",
    "# in order to use binary_crossentropy in keras.losses array need convert to tensor\n",
    "x_test = x_test.astype(np.float32)\n",
    "original_data = tf.convert_to_tensor(x_test)\n",
    "decoded_data = tf.convert_to_tensor(decoded_dt1)\n",
    "\n",
    "loss_data = losses.categorical_hinge(original_data, decoded_data)\n",
    "loss_data\n",
    "val_loss = loss_data.eval(session=sess)"
   ]
  },
  {
   "cell_type": "code",
   "execution_count": 11,
   "metadata": {},
   "outputs": [],
   "source": [
    "val_loss1 = val_loss.tolist()"
   ]
  },
  {
   "cell_type": "code",
   "execution_count": 12,
   "metadata": {},
   "outputs": [
    {
     "data": {
      "image/png": "[encoded data removed]",
      "text/plain": [
       "<Figure size 432x288 with 1 Axes>"
      ]
     },
     "metadata": {
      "needs_background": "light"
     },
     "output_type": "display_data"
    }
   ],
   "source": [
    "import matplotlib.pyplot as plt\n",
    "group = np.arange(0, np.log(max(val_loss1)), 0.2)\n",
    "plt.hist(val_loss1, group)\n",
    "plt.show()"
   ]
  },
  {
   "cell_type": "code",
   "execution_count": null,
   "metadata": {},
   "outputs": [],
   "source": []
  },
  {
   "cell_type": "code",
   "execution_count": null,
   "metadata": {},
   "outputs": [],
   "source": []
  },
  {
   "cell_type": "markdown",
   "metadata": {},
   "source": [
    "Deep Auto-Encoder"
   ]
  },
  {
   "cell_type": "code",
   "execution_count": 13,
   "metadata": {},
   "outputs": [],
   "source": [
    "input_img = Input(shape=(28,))\n",
    "encoded = Dense(18, activation='relu')(input_img)\n",
    "encoded = Dense(6, activation='relu')(encoded)\n",
    "encoded = Dense(2, activation='relu')(encoded)\n",
    "\n",
    "decoded = Dense(6, activation='relu')(encoded)\n",
    "decoded = Dense(18, activation='relu')(decoded)\n",
    "decoded = Dense(28, activation='sigmoid')(decoded)"
   ]
  },
  {
   "cell_type": "code",
   "execution_count": 14,
   "metadata": {},
   "outputs": [],
   "source": [
    "autoencoder2 = Model(input_img, decoded)\n",
    "\n",
    "encoder2 = Model(input_img, encoded)\n",
    "encoded_input = Input(shape=(2,))\n",
    "decoder2_layer1 = autoencoder2.layers[-3]\n",
    "decoder2_layer2 = autoencoder2.layers[-2]\n",
    "decoder2_layer3 = autoencoder2.layers[-1]"
   ]
  },
  {
   "cell_type": "code",
   "execution_count": 15,
   "metadata": {},
   "outputs": [
    {
     "name": "stdout",
     "output_type": "stream",
     "text": [
      "Train on 199367 samples, validate on 85440 samples\n",
      "Epoch 1/10\n",
      "199367/199367 [==============================] - 4s 22us/step - loss: 0.5312 - val_loss: 0.2979\n",
      "Epoch 2/10\n",
      "199367/199367 [==============================] - 3s 16us/step - loss: 0.1520 - val_loss: 0.2253\n",
      "Epoch 3/10\n",
      "199367/199367 [==============================] - 3s 17us/step - loss: 0.1167 - val_loss: 0.1995\n",
      "Epoch 4/10\n",
      "199367/199367 [==============================] - 3s 17us/step - loss: 0.1026 - val_loss: 0.1739\n",
      "Epoch 5/10\n",
      "199367/199367 [==============================] - 3s 17us/step - loss: 0.0943 - val_loss: 0.1709\n",
      "Epoch 6/10\n",
      "199367/199367 [==============================] - 3s 17us/step - loss: 0.0890 - val_loss: 0.1592\n",
      "Epoch 7/10\n",
      "199367/199367 [==============================] - 3s 17us/step - loss: 0.0847 - val_loss: 0.1501\n",
      "Epoch 8/10\n",
      "199367/199367 [==============================] - 3s 17us/step - loss: 0.0817 - val_loss: 0.1475\n",
      "Epoch 9/10\n",
      "199367/199367 [==============================] - 3s 17us/step - loss: 0.0788 - val_loss: 0.1439\n",
      "Epoch 10/10\n",
      "199367/199367 [==============================] - 3s 17us/step - loss: 0.0765 - val_loss: 0.1391\n"
     ]
    },
    {
     "data": {
      "text/plain": [
       "<keras.callbacks.History at 0x118166a90>"
      ]
     },
     "execution_count": 15,
     "metadata": {},
     "output_type": "execute_result"
    }
   ],
   "source": [
    "decoder2 = Model(encoded_input,  ( (decoder2_layer3(decoder2_layer2(decoder2_layer1(encoded_input))) )) )\n",
    "\n",
    "autoencoder2.compile(optimizer='adadelta', loss='categorical_hinge')\n",
    "\n",
    "autoencoder2.fit(x_train, x_train,\n",
    "                epochs=10,\n",
    "                batch_size=256,\n",
    "                shuffle=True,\n",
    "                validation_data=(x_test, x_test))"
   ]
  },
  {
   "cell_type": "code",
   "execution_count": 16,
   "metadata": {},
   "outputs": [],
   "source": [
    "encoded_dt2 = encoder2.predict(x_test)\n",
    "decoded_dt2 = decoder2.predict(encoded_dt2)"
   ]
  },
  {
   "cell_type": "code",
   "execution_count": 17,
   "metadata": {},
   "outputs": [],
   "source": [
    "from keras import losses\n",
    "import tensorflow as tf\n",
    "import numpy as np\n",
    "\n",
    "sess=tf.Session()\n",
    "sess.run(tf.global_variables_initializer())\n",
    "\n",
    "# in order to use binary_crossentropy in keras.losses array need convert to tensor\n",
    "x_test = x_test.astype(np.float32)\n",
    "original_data = tf.convert_to_tensor(x_test)\n",
    "decoded_data = tf.convert_to_tensor(decoded_dt2)\n",
    "\n",
    "loss_data = losses.categorical_hinge(original_data, decoded_data)\n",
    "loss_data\n",
    "val_loss = loss_data.eval(session=sess)"
   ]
  },
  {
   "cell_type": "code",
   "execution_count": 18,
   "metadata": {},
   "outputs": [],
   "source": [
    "val_loss2 = val_loss.tolist()\n",
    "val_loss2.sort(reverse = True)"
   ]
  },
  {
   "cell_type": "code",
   "execution_count": 19,
   "metadata": {},
   "outputs": [
    {
     "data": {
      "image/png": "[encoded data removed]",
      "text/plain": [
       "<Figure size 432x288 with 1 Axes>"
      ]
     },
     "metadata": {
      "needs_background": "light"
     },
     "output_type": "display_data"
    }
   ],
   "source": [
    "val_loss2 = val_loss.tolist()\n",
    "import matplotlib.pyplot as plt\n",
    "group = np.arange(0, np.log(max(val_loss2)), 0.2)\n",
    "plt.hist(val_loss, group)\n",
    "plt.show()"
   ]
  },
  {
   "cell_type": "code",
   "execution_count": null,
   "metadata": {},
   "outputs": [],
   "source": []
  },
  {
   "cell_type": "code",
   "execution_count": null,
   "metadata": {},
   "outputs": [],
   "source": []
  },
  {
   "cell_type": "markdown",
   "metadata": {},
   "source": [
    "Scatter plot"
   ]
  },
  {
   "cell_type": "code",
   "execution_count": 20,
   "metadata": {},
   "outputs": [],
   "source": [
    "x_whole = data.iloc[:, :28]"
   ]
  },
  {
   "cell_type": "code",
   "execution_count": 21,
   "metadata": {},
   "outputs": [],
   "source": [
    "dt1 = encoder1.predict(x_whole).tolist()\n",
    "dt2 = encoder2.predict(x_whole).tolist()"
   ]
  },
  {
   "cell_type": "code",
   "execution_count": 22,
   "metadata": {},
   "outputs": [],
   "source": [
    "x1 = [i[0] for i in dt1]\n",
    "y1 = [i[1] for i in dt1]\n",
    "x2 = [i[0] for i in dt2]\n",
    "y2 = [i[1] for i in dt2]"
   ]
  },
  {
   "cell_type": "code",
   "execution_count": 23,
   "metadata": {},
   "outputs": [
    {
     "data": {
      "text/plain": [
       "<matplotlib.collections.PathCollection at 0xb3ca30320>"
      ]
     },
     "execution_count": 23,
     "metadata": {},
     "output_type": "execute_result"
    },
    {
     "data": {
      "image/png": "[encoded data removed]",
      "text/plain": [
       "<Figure size 432x288 with 1 Axes>"
      ]
     },
     "metadata": {
      "needs_background": "light"
     },
     "output_type": "display_data"
    }
   ],
   "source": [
    "plt.title('Vanilla Auto-Encoder Hidden Layer')\n",
    "plt.scatter(x1, y1, s=5, c='#4169E1', marker='o')"
   ]
  },
  {
   "cell_type": "code",
   "execution_count": 24,
   "metadata": {},
   "outputs": [
    {
     "data": {
      "text/plain": [
       "<matplotlib.collections.PathCollection at 0xb3a875358>"
      ]
     },
     "execution_count": 24,
     "metadata": {},
     "output_type": "execute_result"
    },
    {
     "data": {
      "image/png": "[encoded data removed]",
      "text/plain": [
       "<Figure size 432x288 with 1 Axes>"
      ]
     },
     "metadata": {
      "needs_background": "light"
     },
     "output_type": "display_data"
    }
   ],
   "source": [
    "plt.title('Deep Auto-Encoder Hidden Layer')\n",
    "plt.scatter(x2, y2, s=5, c='#CD0000', marker='v')"
   ]
  },
  {
   "cell_type": "code",
   "execution_count": null,
   "metadata": {},
   "outputs": [],
   "source": []
  },
  {
   "cell_type": "code",
   "execution_count": null,
   "metadata": {},
   "outputs": [],
   "source": []
  },
  {
   "cell_type": "markdown",
   "metadata": {},
   "source": [
    "Classify"
   ]
  },
  {
   "cell_type": "code",
   "execution_count": 25,
   "metadata": {},
   "outputs": [],
   "source": [
    "x3_0 = []\n",
    "x3_1 = []\n",
    "y3_0 = []\n",
    "y3_1 = []\n",
    "x4_0 = []\n",
    "y4_0 = []\n",
    "x4_1 = []\n",
    "y4_1 = []\n",
    "for i in range(len(data['Class'])):\n",
    "    if data['Class'][i] == 1.0:\n",
    "        x3_1.append(dt1[i][0])\n",
    "        y3_1.append(dt1[i][1])\n",
    "        x4_1.append(dt2[i][0])\n",
    "        y4_1.append(dt2[i][1])\n",
    "    else:\n",
    "        x3_0.append(dt1[i][0])\n",
    "        y3_0.append(dt1[i][1])\n",
    "        x4_0.append(dt2[i][0])\n",
    "        y4_0.append(dt2[i][1])"
   ]
  },
  {
   "cell_type": "code",
   "execution_count": 26,
   "metadata": {},
   "outputs": [
    {
     "data": {
      "image/png": "[encoded data removed]",
      "text/plain": [
       "<Figure size 432x288 with 1 Axes>"
      ]
     },
     "metadata": {
      "needs_background": "light"
     },
     "output_type": "display_data"
    }
   ],
   "source": [
    "plt.title('Vanilla classify')\n",
    "plt.scatter(x3_0, y3_0, s=5, c='green', marker='o')\n",
    "plt.scatter(x3_1, y3_1, s=5, c='red', marker='o')\n",
    "plt.show()"
   ]
  },
  {
   "cell_type": "code",
   "execution_count": 27,
   "metadata": {},
   "outputs": [
    {
     "data": {
      "image/png": "[encoded data removed]",
      "text/plain": [
       "<Figure size 432x288 with 1 Axes>"
      ]
     },
     "metadata": {
      "needs_background": "light"
     },
     "output_type": "display_data"
    }
   ],
   "source": [
    "plt.title('Deep classify')\n",
    "plt.scatter(x4_0, y4_0, s=5, c='green', marker='o')\n",
    "plt.scatter(x4_1, y4_1, s=5, c='red', marker='o')\n",
    "plt.show()"
   ]
  },
  {
   "cell_type": "code",
   "execution_count": null,
   "metadata": {},
   "outputs": [],
   "source": []
  }
 ],
 "metadata": {
  "kernelspec": {
   "display_name": "Python 3",
   "language": "python",
   "name": "python3"
  },
  "language_info": {
   "codemirror_mode": {
    "name": "ipython",
    "version": 3
   },
   "file_extension": ".py",
   "mimetype": "text/x-python",
   "name": "python",
   "nbconvert_exporter": "python",
   "pygments_lexer": "ipython3",
   "version": "3.6.8"
  }
 },
 "nbformat": 4,
 "nbformat_minor": 2
}
